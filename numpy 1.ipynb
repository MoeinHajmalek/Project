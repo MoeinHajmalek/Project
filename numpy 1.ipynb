{
 "cells": [
  {
   "cell_type": "code",
   "execution_count": 1,
   "id": "474ba9dc-5872-4649-9409-56d3f05f5c1b",
   "metadata": {},
   "outputs": [
    {
     "name": "stdout",
     "output_type": "stream",
     "text": [
      "[[[[[1 2 3 4]]]]]\n",
      "number of dimensions : 5\n"
     ]
    }
   ],
   "source": [
    "import numpy as np\n",
    "\n",
    "arr = np.array([1, 2, 3, 4], ndmin=5)\n",
    "\n",
    "print(arr)\n",
    "print('number of dimensions :', arr.ndim)"
   ]
  },
  {
   "cell_type": "code",
   "execution_count": 2,
   "id": "68eb6b52-7dca-4937-b1d6-09ff2f4ae423",
   "metadata": {},
   "outputs": [
    {
     "name": "stdout",
     "output_type": "stream",
     "text": [
      "[[[[[1 2 3]\n",
      "    [4 5 6]]\n",
      "\n",
      "   [[1 2 3]\n",
      "    [4 5 6]]]]]\n",
      "number of dimensions : 5\n"
     ]
    }
   ],
   "source": [
    "import numpy as np\n",
    "\n",
    "#arr = np.array([1, 2, 3, 4], ndmin=5)\n",
    "arr = np.array([[[1, 2, 3], [4, 5, 6]], [[1, 2, 3], [4, 5, 6]]], ndmin = 5)\n",
    "\n",
    "print(arr)\n",
    "print('number of dimensions :', arr.ndim)"
   ]
  },
  {
   "cell_type": "code",
   "execution_count": 3,
   "id": "5a36fee1-5be5-4921-90d4-3ab30a60562c",
   "metadata": {},
   "outputs": [
    {
     "name": "stdout",
     "output_type": "stream",
     "text": [
      "[1 2 3 4]\n",
      "number of dimensions : 1\n",
      "2\n"
     ]
    }
   ],
   "source": [
    "import numpy as np\n",
    "\n",
    "arr = np.array([1, 2, 3, 4])\n",
    "#arr = np.array([[[1, 2, 3], [4, 5, 6]], [[1, 2, 3], [4, 5, 6]]], ndmin = 5)\n",
    "print(arr)\n",
    "print('number of dimensions :', arr.ndim)\n",
    "print(arr[1])"
   ]
  },
  {
   "cell_type": "code",
   "execution_count": 4,
   "id": "4d46841b-de8e-4d11-8bdf-b91bab3a2b89",
   "metadata": {},
   "outputs": [
    {
     "name": "stdout",
     "output_type": "stream",
     "text": [
      "Last element from 2nd dim:  10\n"
     ]
    }
   ],
   "source": [
    "arr = np.array([[1,2,3,4,5], [6,7,8,9,10]])\n",
    "\n",
    "print('Last element from 2nd dim: ', arr[1, -1])"
   ]
  },
  {
   "cell_type": "code",
   "execution_count": 5,
   "id": "490b0b1e-6567-4d61-857d-c516717d7c14",
   "metadata": {},
   "outputs": [
    {
     "name": "stdout",
     "output_type": "stream",
     "text": [
      "6\n"
     ]
    }
   ],
   "source": [
    "ax = np.array([[5,8,7,6],[9,2,4,6]])\n",
    "print(ax[1, -1])"
   ]
  },
  {
   "cell_type": "code",
   "execution_count": 6,
   "id": "8a2ea08c-5847-4a04-958b-8637f3fb2204",
   "metadata": {},
   "outputs": [
    {
     "name": "stdout",
     "output_type": "stream",
     "text": [
      "4\n"
     ]
    }
   ],
   "source": [
    "ax = np.array([[5,8,7,6],\n",
    "               [9,2,4,6],\n",
    "               [7,9,5,2]])\n",
    "print(ax[1, 2])"
   ]
  },
  {
   "cell_type": "code",
   "execution_count": 7,
   "id": "edc35aac-e070-4a0f-b1ac-5df0a0386aae",
   "metadata": {},
   "outputs": [
    {
     "name": "stdout",
     "output_type": "stream",
     "text": [
      "5\n"
     ]
    }
   ],
   "source": [
    "ax = np.array([[5,8,7,6],\n",
    "               [9,2,4,6],\n",
    "               [7,9,5,2]])\n",
    "print(ax[2, -2])"
   ]
  },
  {
   "cell_type": "code",
   "execution_count": 8,
   "id": "fff750c3-f9cb-4e20-a500-b24cf84741c3",
   "metadata": {},
   "outputs": [
    {
     "name": "stdout",
     "output_type": "stream",
     "text": [
      "[[9 2 4 6]\n",
      " [7 9 5 2]]\n"
     ]
    }
   ],
   "source": [
    "ax = np.array([[5,8,7,6],\n",
    "               [9,2,4,6],\n",
    "               [7,9,5,2]])\n",
    "print(ax[1:3])"
   ]
  },
  {
   "cell_type": "code",
   "execution_count": 9,
   "id": "cdc58d64-96bb-45b3-9b09-623b703c4e4f",
   "metadata": {},
   "outputs": [
    {
     "name": "stdout",
     "output_type": "stream",
     "text": [
      "[[5 8 7 6]]\n"
     ]
    }
   ],
   "source": [
    "ax = np.array([[5,8,7,6],\n",
    "               [9,2,4,6],\n",
    "               [7,9,5,2]])\n",
    "print(ax[::3])"
   ]
  },
  {
   "cell_type": "code",
   "execution_count": 10,
   "id": "6251f627-6198-4060-a5f9-34888f435003",
   "metadata": {},
   "outputs": [
    {
     "name": "stdout",
     "output_type": "stream",
     "text": [
      "[[5 8 7 6]\n",
      " [9 2 4 6]]\n"
     ]
    }
   ],
   "source": [
    "ax = np.array([[5,8,7,6],\n",
    "               [9,2,4,6],\n",
    "               [7,9,5,2]])\n",
    "print(ax[-3:-1])"
   ]
  },
  {
   "cell_type": "code",
   "execution_count": 11,
   "id": "56b6661f-835e-425d-850c-e8151018ff96",
   "metadata": {},
   "outputs": [
    {
     "name": "stdout",
     "output_type": "stream",
     "text": [
      "[7 8 9]\n"
     ]
    }
   ],
   "source": [
    "ar = np.array([[1, 2, 3, 4, 5], [6, 7, 8, 9, 10]])\n",
    "\n",
    "print(ar[1, 1:4])"
   ]
  },
  {
   "cell_type": "code",
   "execution_count": null,
   "id": "cee55fbf-04c2-474e-94ae-97d6bdb89438",
   "metadata": {},
   "outputs": [],
   "source": []
  }
 ],
 "metadata": {
  "kernelspec": {
   "display_name": "Python 3 (ipykernel)",
   "language": "python",
   "name": "python3"
  },
  "language_info": {
   "codemirror_mode": {
    "name": "ipython",
    "version": 3
   },
   "file_extension": ".py",
   "mimetype": "text/x-python",
   "name": "python",
   "nbconvert_exporter": "python",
   "pygments_lexer": "ipython3",
   "version": "3.12.0"
  }
 },
 "nbformat": 4,
 "nbformat_minor": 5
}
